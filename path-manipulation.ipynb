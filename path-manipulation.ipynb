{
 "cells": [
  {
   "cell_type": "code",
   "execution_count": 1,
   "metadata": {
    "collapsed": false
   },
   "outputs": [
    {
     "name": "stdout",
     "output_type": "stream",
     "text": [
      "C:\\directory\\subdirectory\n",
      "\n",
      "file.txt\n"
     ]
    }
   ],
   "source": [
    "# The os.path module provides lots of ways to manipulate paths\n",
    "\n",
    "import os\n",
    "\n",
    "p = r'C:\\directory\\subdirectory\\file.txt'\n",
    "\n",
    "# Split a path into file and directory\n",
    "\n",
    "print os.path.dirname(p)\n",
    "print\n",
    "print os.path.basename(p)"
   ]
  },
  {
   "cell_type": "code",
   "execution_count": 2,
   "metadata": {
    "collapsed": false
   },
   "outputs": [
    {
     "name": "stdout",
     "output_type": "stream",
     "text": [
      "('C:\\\\directory\\\\subdirectory', 'file.txt')\n"
     ]
    }
   ],
   "source": [
    "# You can achieve the same thing using split(). Note that this return a tuple\n",
    "\n",
    "print os.path.split(p)"
   ]
  },
  {
   "cell_type": "code",
   "execution_count": 3,
   "metadata": {
    "collapsed": false
   },
   "outputs": [
    {
     "name": "stdout",
     "output_type": "stream",
     "text": [
      "C:\\directory\\subdirectory\n",
      "\n",
      "file.txt\n"
     ]
    }
   ],
   "source": [
    "# Assign to variables using tuple unpacking:\n",
    "\n",
    "directory, file = os.path.split(p)\n",
    "\n",
    "print directory\n",
    "print\n",
    "print file"
   ]
  },
  {
   "cell_type": "code",
   "execution_count": 4,
   "metadata": {
    "collapsed": false
   },
   "outputs": [
    {
     "name": "stdout",
     "output_type": "stream",
     "text": [
      "C:\\my_dir\\myfile.txt\n"
     ]
    }
   ],
   "source": [
    "# In general, it is better to create new path names with join(), rather than string concatenation\n",
    "\n",
    "dir = r'C:\\my_dir'\n",
    "\n",
    "file = 'myfile.txt'\n",
    "\n",
    "print os.path.join(dir, file)"
   ]
  },
  {
   "cell_type": "code",
   "execution_count": 5,
   "metadata": {
    "collapsed": false
   },
   "outputs": [
    {
     "name": "stdout",
     "output_type": "stream",
     "text": [
      "('C:\\\\directory\\\\subdirectory\\\\file', '.txt')\n"
     ]
    }
   ],
   "source": [
    "# Split a path into a file extension and everything before the extension (returned as a tuple)\n",
    "\n",
    "print os.path.splitext(p)"
   ]
  },
  {
   "cell_type": "code",
   "execution_count": 6,
   "metadata": {
    "collapsed": false
   },
   "outputs": [
    {
     "name": "stdout",
     "output_type": "stream",
     "text": [
      ".txt\n"
     ]
    }
   ],
   "source": [
    "# Use tuple unpacking again\n",
    "\n",
    "path_no_ext, ext = os.path.splitext(p)\n",
    "\n",
    "print ext"
   ]
  },
  {
   "cell_type": "code",
   "execution_count": 7,
   "metadata": {
    "collapsed": false
   },
   "outputs": [
    {
     "name": "stdout",
     "output_type": "stream",
     "text": [
      "streets.shp\n"
     ]
    }
   ],
   "source": [
    "# Take the path for a shapefile, and use it to create a path for a geodatabase feature class\n",
    "\n",
    "shp = r'C:\\some_dir\\shps\\streets.shp'\n",
    "gdb = r'C:\\gdbs\\atlas.gdb'\n",
    "\n",
    "shp_name = os.path.split(shp)[1]\n",
    "print shp_name"
   ]
  },
  {
   "cell_type": "code",
   "execution_count": 8,
   "metadata": {
    "collapsed": false
   },
   "outputs": [
    {
     "name": "stdout",
     "output_type": "stream",
     "text": [
      "streets\n"
     ]
    }
   ],
   "source": [
    "fc_name = os.path.splitext(shp_name)[0]\n",
    "print fc_name"
   ]
  },
  {
   "cell_type": "code",
   "execution_count": 9,
   "metadata": {
    "collapsed": false
   },
   "outputs": [
    {
     "name": "stdout",
     "output_type": "stream",
     "text": [
      "C:\\gdbs\\atlas.gdb\\streets\n"
     ]
    }
   ],
   "source": [
    "print os.path.join(gdb, fc_name)"
   ]
  },
  {
   "cell_type": "code",
   "execution_count": 10,
   "metadata": {
    "collapsed": false
   },
   "outputs": [
    {
     "name": "stdout",
     "output_type": "stream",
     "text": [
      "C:\\gdbs\\atlas.gdb\\streets\n"
     ]
    }
   ],
   "source": [
    "# One liner\n",
    "print os.path.join(gdb, os.path.splitext(os.path.split(shp)[1])[0])"
   ]
  }
],
 "metadata": {
  "kernelspec": {
   "display_name": "Python 2",
   "language": "python",
   "name": "python2"
  },
  "language_info": {
   "codemirror_mode": {
    "name": "ipython",
    "version": 2
   },
   "file_extension": ".py",
   "mimetype": "text/x-python",
   "name": "python",
   "nbconvert_exporter": "python",
   "pygments_lexer": "ipython2",
   "version": "2.7.11"
  }
 },
 "nbformat": 4,
 "nbformat_minor": 0
}
