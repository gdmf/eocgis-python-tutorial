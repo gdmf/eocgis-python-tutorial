{
 "metadata": {
  "name": "",
  "signature": "sha256:85aeee0160848836c021be9936521a6f90f3993e15dd924bfeb1fe0823a2e5f6"
 },
 "nbformat": 3,
 "nbformat_minor": 0,
 "worksheets": [
  {
   "cells": [
    {
     "cell_type": "code",
     "collapsed": false,
     "input": [
      "# Things about strings\n",
      "\n",
      "# ESCAPE SEQUENCES\n",
      "\n",
      "# The backslash signals to python that the character following the backslash has a special meaning.\n",
      "# It is called an escape sequence. One example is the newline: \\n\n",
      "\n",
      "print \"This is a string with no newline.\"\n"
     ],
     "language": "python",
     "metadata": {},
     "outputs": [
      {
       "output_type": "stream",
       "stream": "stdout",
       "text": [
        "This is a string with no newline.\n"
       ]
      }
     ],
     "prompt_number": 1
    },
    {
     "cell_type": "code",
     "collapsed": false,
     "input": [
      "print \"This is a string\\nwith a newline.\""
     ],
     "language": "python",
     "metadata": {},
     "outputs": [
      {
       "output_type": "stream",
       "stream": "stdout",
       "text": [
        "This is a string\n",
        "with a newline.\n"
       ]
      }
     ],
     "prompt_number": 2
    },
    {
     "cell_type": "code",
     "collapsed": false,
     "input": [
      "# For a complete list of escape sequences, see the table here:\n",
      "# https://docs.python.org/2/reference/lexical_analysis.html#string-literals\n",
      "\n",
      "# I commonly use the following:\n",
      "# \\n (for newline),\n",
      "# \\t (for tab),\n",
      "# \\' and \\\" (if you want to use quotes in your string without ending the string)\n",
      "# \\\\ (if you actually want a backslash)\n",
      "\n",
      "print \"Using tab can \\t be helpful for \\t creating tab-delimited \\t files.\""
     ],
     "language": "python",
     "metadata": {},
     "outputs": [
      {
       "output_type": "stream",
       "stream": "stdout",
       "text": [
        "Using tab can \t be helpful for \t creating tab-delimited \t files.\n"
       ]
      }
     ],
     "prompt_number": 4
    },
    {
     "cell_type": "code",
     "collapsed": false,
     "input": [
      "print 'If you\\'re using single-quotes for a string, you\\'ll need to escape single quotes used as apostrophes'"
     ],
     "language": "python",
     "metadata": {},
     "outputs": [
      {
       "output_type": "stream",
       "stream": "stdout",
       "text": [
        "If you're using single-quotes for a string, you'll need to escape single quotes used as apostrophes\n"
       ]
      }
     ],
     "prompt_number": 5
    },
    {
     "cell_type": "code",
     "collapsed": false,
     "input": [
      "# PATHS\n",
      "\n",
      "# Paths (on Windows) use backslashes. This can cause problems:\n",
      "# There are a couple ways to deal with this. One is to double the backslash every time it appears in a path:\n",
      "\n",
      "print \"C:\\\\some_directory\\\\somefile.txt\""
     ],
     "language": "python",
     "metadata": {},
     "outputs": [
      {
       "output_type": "stream",
       "stream": "stdout",
       "text": [
        "C:\\some_directory\\somefile.txt\n"
       ]
      }
     ],
     "prompt_number": 12
    },
    {
     "cell_type": "code",
     "collapsed": false,
     "input": [
      "# The problem with this is that is makes it very cumbersome to just cut and paste paths.\n",
      "\n",
      "# A second solution is to use what is called raw strings. Without getting into details, \n",
      "# this means putting an r in from of all path strings\n",
      "\n",
      "print r\"C:\\some_directory\\somefile.txt\""
     ],
     "language": "python",
     "metadata": {},
     "outputs": [
      {
       "output_type": "stream",
       "stream": "stdout",
       "text": [
        "C:\\some_directory\\somefile.txt\n"
       ]
      }
     ],
     "prompt_number": 13
    },
    {
     "cell_type": "code",
     "collapsed": false,
     "input": [
      "# The only problem with this is that you can't use a trailing backslash at the end of your path:\n",
      "\n",
      "print r\"C:\\some_directory\\somefile.txt\\\""
     ],
     "language": "python",
     "metadata": {},
     "outputs": [
      {
       "ename": "SyntaxError",
       "evalue": "EOL while scanning string literal (<ipython-input-14-157330c2bc8b>, line 1)",
       "output_type": "pyerr",
       "traceback": [
        "\u001b[1;36m  File \u001b[1;32m\"<ipython-input-14-157330c2bc8b>\"\u001b[1;36m, line \u001b[1;32m1\u001b[0m\n\u001b[1;33m    print r\"C:\\some_directory\\somefile.txt\\\"\u001b[0m\n\u001b[1;37m                                           ^\u001b[0m\n\u001b[1;31mSyntaxError\u001b[0m\u001b[1;31m:\u001b[0m EOL while scanning string literal\n"
       ]
      }
     ],
     "prompt_number": 14
    },
    {
     "cell_type": "code",
     "collapsed": false,
     "input": [
      "# Still, I find using raw strings for paths to be the easiest solution.\n",
      "\n",
      "# NESTING quotes\n",
      "\n",
      "# On occasion you will need to a pair of quotes inside another set of quotes (often in queries).\n",
      "# This is possible if you use single quotes inside a set of double quotes, or vice versa:\n",
      "\n",
      "print \"Hey look, 'a quote within a quote,' pretty cool!\"\n",
      "# or \n",
      "print 'Hey look, \"a quote within a quote,\" pretty cool!'"
     ],
     "language": "python",
     "metadata": {},
     "outputs": [
      {
       "output_type": "stream",
       "stream": "stdout",
       "text": [
        "Hey look, 'a quote within a quote,' pretty cool!\n",
        "Hey look, \"a quote within a quote,\" pretty cool!\n"
       ]
      }
     ],
     "prompt_number": 18
    },
    {
     "cell_type": "code",
     "collapsed": false,
     "input": [],
     "language": "python",
     "metadata": {},
     "outputs": []
    }
   ],
   "metadata": {}
  }
 ]
}